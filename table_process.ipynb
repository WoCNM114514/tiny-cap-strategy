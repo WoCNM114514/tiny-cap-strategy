{
 "cells": [
  {
   "cell_type": "code",
   "execution_count": 11,
   "metadata": {},
   "outputs": [],
   "source": [
    "import pandas as pd\n",
    "import matplotlib.pyplot as plt\n",
    "import warnings\n",
    "import glob\n",
    "warnings.filterwarnings('ignore')\n",
    "plt.rcParams['font.sans-serif'] = ['SimHei']\n",
    "plt.rcParams['axes.unicode_minus']=False # 负号"
   ]
  },
  {
   "cell_type": "markdown",
   "metadata": {},
   "source": [
    "批量读取不同策略的收益情况, 进行改名并计算每日盈亏"
   ]
  },
  {
   "cell_type": "code",
   "execution_count": 20,
   "metadata": {},
   "outputs": [],
   "source": [
    "def read_files(path):\n",
    "    file_list = glob.glob(path + '/*.xlsx')\n",
    "    all_data = []                             # 用于储存数据的列表\n",
    "    for _ in file_list:\n",
    "        data = pd.read_excel(_)\n",
    "        all_data.append(data)\n",
    "\n",
    "    return all_data\n",
    "\n",
    "\n",
    "def batch_process(all_data):\n",
    "    new_col_names = {'时间':'Date',\n",
    "                     '基准收益':'refer_profit',\n",
    "                     '策略收益':'strategy_profit',\n",
    "                     '当日盈利':'gain', \n",
    "                     '当日亏损':'loss',\n",
    "                     '当日买入':'buy',\n",
    "                     '当日卖出':'sell',\n",
    "                     '超额收益(%)':'excess'}\n",
    "    for data in all_data:\n",
    "        data.rename(columns=new_col_names, inplace=True)\n",
    "\n",
    "    # 每日盈亏 = 盈利 + 亏损\n",
    "    for data in all_data:\n",
    "        data['profit'] = data['gain'] + data['loss']\n",
    "\n",
    "\n",
    "def pos_fetch(all_data):\n",
    "    refresh = []\n",
    "    for data in all_data:\n",
    "        data['日期'] = pd.to_datetime(data['日期'])\n",
    "        data = data.groupby('日期')['仓位'].sum().reset_index()\n",
    "        refresh.append(data)\n",
    "    return refresh"
   ]
  },
  {
   "cell_type": "code",
   "execution_count": null,
   "metadata": {},
   "outputs": [],
   "source": [
    "folder_path = r'C:\\Users\\20536\\Desktop\\rock\\策略研究\\小市值_聚宽'\n",
    "data_list = read_files(folder_path)\n",
    "batch_process(data_list)"
   ]
  },
  {
   "cell_type": "markdown",
   "metadata": {},
   "source": [
    "保存并批量覆写原文件"
   ]
  },
  {
   "cell_type": "code",
   "execution_count": null,
   "metadata": {},
   "outputs": [],
   "source": [
    "for file_path, data in zip(glob.glob(folder_path+'/*.xlsx'), data_list):\n",
    "    data.to_excel(file_path, index=False)"
   ]
  },
  {
   "cell_type": "markdown",
   "metadata": {},
   "source": [
    "提取不同策略的每日仓位比例"
   ]
  },
  {
   "cell_type": "code",
   "execution_count": 21,
   "metadata": {},
   "outputs": [],
   "source": [
    "pos_path = r'C:\\Users\\20536\\Desktop\\rock\\策略研究\\小市值_聚宽\\持仓'\n",
    "pos_list = read_files(pos_path)\n",
    "refresh = pos_fetch(pos_list)"
   ]
  },
  {
   "cell_type": "code",
   "execution_count": 22,
   "metadata": {},
   "outputs": [],
   "source": [
    "for path, datas in zip(glob.glob(pos_path+'/*.xlsx'), refresh):\n",
    "    datas.to_excel(path, index=False)"
   ]
  }
 ],
 "metadata": {
  "kernelspec": {
   "display_name": "base",
   "language": "python",
   "name": "python3"
  },
  "language_info": {
   "codemirror_mode": {
    "name": "ipython",
    "version": 3
   },
   "file_extension": ".py",
   "mimetype": "text/x-python",
   "name": "python",
   "nbconvert_exporter": "python",
   "pygments_lexer": "ipython3",
   "version": "3.10.9"
  },
  "orig_nbformat": 4
 },
 "nbformat": 4,
 "nbformat_minor": 2
}
